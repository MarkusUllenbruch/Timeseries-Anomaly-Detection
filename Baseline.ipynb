{
 "cells": [
  {
   "cell_type": "code",
   "execution_count": 1,
   "id": "sustainable-cisco",
   "metadata": {},
   "outputs": [],
   "source": [
    "import pandas as pd\n",
    "import shutil\n",
    "import seaborn as sns\n",
    "import matplotlib.pyplot as plt\n",
    "import numpy as np\n",
    "from sklearn.model_selection import train_test_split\n",
    "import tensorflow as tf\n",
    "from tensorflow.keras.layers import Dense\n",
    "from tensorflow.keras.losses import MeanSquaredError, MeanAbsoluteError\n",
    "from tensorflow.keras.optimizers import Adam\n",
    "from sklearn.metrics import accuracy_score, precision_score, recall_score"
   ]
  },
  {
   "cell_type": "code",
   "execution_count": 2,
   "id": "satisfied-software",
   "metadata": {},
   "outputs": [],
   "source": [
    "shutil.unpack_archive('ECG5000.zip')"
   ]
  },
  {
   "cell_type": "code",
   "execution_count": 3,
   "id": "muslim-orchestra",
   "metadata": {},
   "outputs": [],
   "source": [
    "train = pd.read_csv('ECG5000_TRAIN.txt', delimiter= '\\s+', index_col=False, header=None)\n",
    "test = pd.read_csv('ECG5000_TEST.txt', delimiter= '\\s+', index_col=False, header=None)"
   ]
  },
  {
   "cell_type": "code",
   "execution_count": 4,
   "id": "unusual-covering",
   "metadata": {},
   "outputs": [
    {
     "data": {
      "text/plain": [
       "(5000, 141)"
      ]
     },
     "execution_count": 4,
     "metadata": {},
     "output_type": "execute_result"
    }
   ],
   "source": [
    "# Concatenate the Datasets\n",
    "data = pd.concat((train, test))\n",
    "data.shape"
   ]
  },
  {
   "cell_type": "code",
   "execution_count": 5,
   "id": "acquired-exercise",
   "metadata": {},
   "outputs": [],
   "source": [
    "# Shuffle the Data\n",
    "data = data.sample(frac=1.0).reset_index(drop=True)"
   ]
  },
  {
   "cell_type": "code",
   "execution_count": 6,
   "id": "agreed-warren",
   "metadata": {},
   "outputs": [],
   "source": [
    "data.columns = ['target'] + [str(i+1) for i in range(140)]"
   ]
  },
  {
   "cell_type": "code",
   "execution_count": 7,
   "id": "advisory-assets",
   "metadata": {},
   "outputs": [
    {
     "data": {
      "image/png": "[encoded data removed]",
      "text/plain": [
       "<Figure size 432x288 with 1 Axes>"
      ]
     },
     "metadata": {
      "needs_background": "light"
     },
     "output_type": "display_data"
    },
    {
     "name": "stdout",
     "output_type": "stream",
     "text": [
      "1.0    2919\n",
      "2.0    1767\n",
      "4.0     194\n",
      "3.0      96\n",
      "5.0      24\n",
      "Name: target, dtype: int64\n"
     ]
    }
   ],
   "source": [
    "sns.countplot(data=data, x='target')\n",
    "plt.show()\n",
    "print(data.target.value_counts())"
   ]
  },
  {
   "cell_type": "markdown",
   "id": "compliant-manitoba",
   "metadata": {},
   "source": [
    "- 1.0 represents the normal signal\n",
    "- 2.0, 3.0, 4.0, 5.0 represents the anomaly signal"
   ]
  },
  {
   "cell_type": "markdown",
   "id": "coupled-hampton",
   "metadata": {},
   "source": [
    "### Data Preprocessing\n",
    "\n",
    "1 is Normal\n",
    "\n",
    "0 is Anomaly"
   ]
  },
  {
   "cell_type": "code",
   "execution_count": 8,
   "id": "latest-bracket",
   "metadata": {},
   "outputs": [],
   "source": [
    "data['target'] = data['target'].apply(lambda x: 1 if x==1.0 else 0.0)"
   ]
  },
  {
   "cell_type": "code",
   "execution_count": 9,
   "id": "rubber-biodiversity",
   "metadata": {},
   "outputs": [
    {
     "name": "stdout",
     "output_type": "stream",
     "text": [
      "1.0    2919\n",
      "0.0    2081\n",
      "Name: target, dtype: int64\n"
     ]
    }
   ],
   "source": [
    "print(data.target.value_counts())"
   ]
  },
  {
   "cell_type": "code",
   "execution_count": 10,
   "id": "bulgarian-colorado",
   "metadata": {},
   "outputs": [],
   "source": [
    "# Make Label y\n",
    "y = data['target']\n",
    "\n",
    "# Make Feature Batch\n",
    "X = data.drop('target', axis=1)"
   ]
  },
  {
   "cell_type": "code",
   "execution_count": 11,
   "id": "prepared-integral",
   "metadata": {},
   "outputs": [],
   "source": [
    "# Train Test split of Data\n",
    "X_train, X_test, y_train, y_test = train_test_split(X, y, test_size=0.7, shuffle=True)"
   ]
  },
  {
   "cell_type": "code",
   "execution_count": 12,
   "id": "shared-region",
   "metadata": {},
   "outputs": [],
   "source": [
    "y_train = y_train.astype(bool)"
   ]
  },
  {
   "cell_type": "code",
   "execution_count": 13,
   "id": "automotive-savannah",
   "metadata": {},
   "outputs": [],
   "source": [
    "X_train_normal = X_train[y_train].values # All Normal Samples for Training\n",
    "X_train_anomaly = X_train[~y_train].values # All Anomaly Samples for Evaluation"
   ]
  },
  {
   "cell_type": "markdown",
   "id": "respective-hindu",
   "metadata": {},
   "source": [
    "### Scaling"
   ]
  },
  {
   "cell_type": "code",
   "execution_count": 14,
   "id": "republican-spoke",
   "metadata": {},
   "outputs": [
    {
     "ename": "UnboundLocalError",
     "evalue": "local variable 'X_train_normal' referenced before assignment",
     "output_type": "error",
     "traceback": [
      "\u001b[1;31m---------------------------------------------------------------------------\u001b[0m",
      "\u001b[1;31mUnboundLocalError\u001b[0m                         Traceback (most recent call last)",
      "\u001b[1;32m<ipython-input-14-9782e3066738>\u001b[0m in \u001b[0;36m<module>\u001b[1;34m\u001b[0m\n\u001b[0;32m     18\u001b[0m \u001b[1;33m\u001b[0m\u001b[0m\n\u001b[0;32m     19\u001b[0m \u001b[1;33m\u001b[0m\u001b[0m\n\u001b[1;32m---> 20\u001b[1;33m \u001b[0mX_train_normal\u001b[0m\u001b[1;33m,\u001b[0m \u001b[0mX_train_anomaly\u001b[0m\u001b[1;33m,\u001b[0m \u001b[0mX_test\u001b[0m \u001b[1;33m=\u001b[0m \u001b[0mstandardize\u001b[0m\u001b[1;33m(\u001b[0m\u001b[1;33m)\u001b[0m\u001b[1;33m\u001b[0m\u001b[1;33m\u001b[0m\u001b[0m\n\u001b[0m\u001b[0;32m     21\u001b[0m \u001b[1;31m#X_train_normal, X_train_anomaly, X_test = minmax()\u001b[0m\u001b[1;33m\u001b[0m\u001b[1;33m\u001b[0m\u001b[1;33m\u001b[0m\u001b[0m\n",
      "\u001b[1;32m<ipython-input-14-9782e3066738>\u001b[0m in \u001b[0;36mstandardize\u001b[1;34m()\u001b[0m\n\u001b[0;32m      9\u001b[0m \u001b[1;33m\u001b[0m\u001b[0m\n\u001b[0;32m     10\u001b[0m \u001b[1;32mdef\u001b[0m \u001b[0mstandardize\u001b[0m\u001b[1;33m(\u001b[0m\u001b[1;33m)\u001b[0m\u001b[1;33m:\u001b[0m\u001b[1;33m\u001b[0m\u001b[1;33m\u001b[0m\u001b[0m\n\u001b[1;32m---> 11\u001b[1;33m     \u001b[0mmean\u001b[0m \u001b[1;33m=\u001b[0m \u001b[0mnp\u001b[0m\u001b[1;33m.\u001b[0m\u001b[0mmean\u001b[0m\u001b[1;33m(\u001b[0m\u001b[0mX_train_normal\u001b[0m\u001b[1;33m)\u001b[0m\u001b[1;33m\u001b[0m\u001b[1;33m\u001b[0m\u001b[0m\n\u001b[0m\u001b[0;32m     12\u001b[0m     \u001b[0mstd\u001b[0m \u001b[1;33m=\u001b[0m \u001b[0mnp\u001b[0m\u001b[1;33m.\u001b[0m\u001b[0mstd\u001b[0m\u001b[1;33m(\u001b[0m\u001b[0mX_train_normal\u001b[0m\u001b[1;33m)\u001b[0m\u001b[1;33m\u001b[0m\u001b[1;33m\u001b[0m\u001b[0m\n\u001b[0;32m     13\u001b[0m     \u001b[0mX_train_normal\u001b[0m \u001b[1;33m=\u001b[0m \u001b[1;33m(\u001b[0m\u001b[0mX_train_normal\u001b[0m \u001b[1;33m-\u001b[0m \u001b[0mmean\u001b[0m\u001b[1;33m)\u001b[0m \u001b[1;33m/\u001b[0m \u001b[0mstd\u001b[0m\u001b[1;33m\u001b[0m\u001b[1;33m\u001b[0m\u001b[0m\n",
      "\u001b[1;31mUnboundLocalError\u001b[0m: local variable 'X_train_normal' referenced before assignment"
     ]
    }
   ],
   "source": [
    "def minmax(scale_min=0.0, scale_max=1.0):\n",
    "    max_val = np.max(X_train_normal)\n",
    "    min_val = np.min(X_train_normal)\n",
    "    X_train_normal = (scale_max - scale_min) * (X_train_normal - min_val) / (max_val - min_val) + scale_min\n",
    "    X_train_anomaly = (scale_max - scale_min) * (X_train_anomaly - min_val) / (max_val - min_val) + scale_min\n",
    "    X_test = (scale_max - scale_min) * (X_test - min_val) / (max_val - min_val) + scale_min\n",
    "    return X_train_normal, X_train_anomaly, X_test\n",
    "    \n",
    "\n",
    "def standardize():\n",
    "    mean = np.mean(X_train_normal)\n",
    "    std = np.std(X_train_normal)\n",
    "    X_train_normal = (X_train_normal - mean) / std\n",
    "    X_train_anomaly = (X_train_anomaly - mean) / std\n",
    "    X_test = (X_test - mean) / std\n",
    "    return X_train_normal, X_train_anomaly, X_test\n",
    "    \n",
    "    \n",
    "    \n",
    "X_train_normal, X_train_anomaly, X_test = standardize()\n",
    "#X_train_normal, X_train_anomaly, X_test = minmax()"
   ]
  },
  {
   "cell_type": "markdown",
   "id": "bizarre-infrastructure",
   "metadata": {},
   "source": [
    "### Fully Connected Neural Network Autoencoder"
   ]
  },
  {
   "cell_type": "code",
   "execution_count": null,
   "id": "multiple-potato",
   "metadata": {},
   "outputs": [],
   "source": [
    "model_dense = tf.keras.Sequential([\n",
    "    Dense(64, activation='relu', input_shape=(140,)),\n",
    "    Dense(16, activation='relu'),\n",
    "    Dense(8, activation='relu'),  # Bottleneck Layer\n",
    "    Dense(16, activation='relu'),\n",
    "    Dense(64, activation='relu'),\n",
    "    Dense(140, activation='relu')\n",
    "])\n",
    "model_dense.compile(optimizer='adam', loss='mse')\n",
    "print(model_dense.summary())"
   ]
  },
  {
   "cell_type": "code",
   "execution_count": null,
   "id": "successful-father",
   "metadata": {},
   "outputs": [],
   "source": [
    "def train(model,\n",
    "          X_train,\n",
    "          X_eval,\n",
    "          epochs=20):\n",
    "    X_train = tf.convert_to_tensor(X_train, dtype=tf.float32)\n",
    "    X_eval = tf.convert_to_tensor(X_eval, dtype=tf.float32)\n",
    "\n",
    "    # Train model on Normal Train Data (Normal Data Only)\n",
    "    # Validate Model on complete Test Set (Normal + Anomaly)\n",
    "    history = model.fit(X_train,\n",
    "                        X_train,\n",
    "                        epochs=epochs,\n",
    "                        #batch_size=500,\n",
    "                        validation_data=(X_eval, X_eval),\n",
    "                        shuffle=True)\n",
    "    \n",
    "    # Plot Losses\n",
    "    plt.figure()\n",
    "    plt.plot(history.history['loss'], label='Normal Data Loss')\n",
    "    plt.plot(history.history['val_loss'], label='Anomaly Data Loss')\n",
    "    plt.legend()\n",
    "    plt.show()\n",
    "\n",
    "    # Reconstruction Losses of Normal + Anomaly Data\n",
    "    train_pred = model.predict(X_train)\n",
    "    train_loss = tf.keras.losses.mae(train_pred, X_train).numpy()\n",
    "    print('Train Loss', np.mean(train_loss))\n",
    "\n",
    "    test_pred = model.predict(X_eval)\n",
    "    val_loss = tf.keras.losses.mae(test_pred, X_eval).numpy()\n",
    "    print('Test Loss', np.mean(val_loss))\n",
    "    \n",
    "    sns.histplot(train_loss, color='green', kde=True)    \n",
    "    sns.histplot(val_loss, color='yellow', kde=True)\n",
    "    plt.show()\n",
    "    "
   ]
  },
  {
   "cell_type": "code",
   "execution_count": null,
   "id": "proprietary-married",
   "metadata": {},
   "outputs": [],
   "source": [
    "train(model_dense,\n",
    "      X_train=X_train_normal,\n",
    "      X_eval=X_train_anomaly,\n",
    "      epochs=40)"
   ]
  },
  {
   "cell_type": "code",
   "execution_count": null,
   "id": "continuing-forty",
   "metadata": {},
   "outputs": [],
   "source": [
    "def show_recon_series(model, batch=X_test.values, labels=y_test.values):\n",
    "    pred = model.predict(batch)\n",
    "    pred_losses = tf.keras.losses.mae(pred, batch).numpy()\n",
    "    \n",
    "    sns.histplot(pred_losses, color='black', kde=True)\n",
    "    plt.show()\n",
    "    \n",
    "    for i in range(10):\n",
    "        if labels[i] == 0:\n",
    "            label = 'Anomaly'\n",
    "        else:\n",
    "            label = 'Normal'\n",
    "        plt.plot(pred[i], label='Prediction')\n",
    "        plt.plot(batch[i, :], label='True')\n",
    "        plt.title(label + '  Loss:' + str(np.round(pred_losses[i],2)))\n",
    "        plt.legend()\n",
    "        plt.show()"
   ]
  },
  {
   "cell_type": "code",
   "execution_count": null,
   "id": "grateful-walnut",
   "metadata": {},
   "outputs": [],
   "source": [
    "show_recon_series(model=model_dense)"
   ]
  },
  {
   "cell_type": "code",
   "execution_count": null,
   "id": "opened-medicare",
   "metadata": {},
   "outputs": [],
   "source": []
  }
 ],
 "metadata": {
  "kernelspec": {
   "display_name": "Python 3",
   "language": "python",
   "name": "python3"
  },
  "language_info": {
   "codemirror_mode": {
    "name": "ipython",
    "version": 3
   },
   "file_extension": ".py",
   "mimetype": "text/x-python",
   "name": "python",
   "nbconvert_exporter": "python",
   "pygments_lexer": "ipython3",
   "version": "3.7.9"
  }
 },
 "nbformat": 4,
 "nbformat_minor": 5
}
